{
 "cells": [
  {
   "cell_type": "markdown",
   "metadata": {},
   "source": [
    "# Tutorial Ilustrasi dan Visualisasi Grafik\n",
    "---\n",
    "### Bahasa Pemograman: Python  (Matplotlib dan NumPy)\n",
    "\n",
    "Dalam pembelajaran \"Ilustrasi dan Visualisasi Grafik\", kita akan membahas cara membuat grafik di bahasa pemograman Python dengan Matplotlib dan Numpy.\n"
   ]
  },
  {
   "cell_type": "markdown",
   "metadata": {},
   "source": [
    "## Deskripsi Singkat\n",
    "Sebelum kita memperdalam metode pemrograman python, sebaiknya kita terlebih dahulu tahu apakah itu Python, Matplotlib dan Numpy yang akan sering di ungkapkan dalam tutorial ini.\n",
    "\n",
    "* ### Python\n",
    "Python adalah bahasa pemrogaman level tinggi yang terinterpretasi, bahasa *object-oriented* dan interaktif. Oleh karena itu, python sangat mudah untuk diprogram. Python dibuat oleh Guido van Rossum pada tahun 1991. Python menggunakan modul, pengecualian, pengetikan dinamis, tipe data dinamis level tinggi, dan kelas. Python juga mempunyai *interface* untuk memanggil sistem. Python merupakan bahasa yang mementingkan *code readibility* terutama dalam pemakaian *whitespaces*. $^{[1]}$\n",
    "\n",
    "* ### Matplotlib\n",
    "Matplotlib merupakan *plotting library* Python dua dimensi yang menghasilkan kualitas figur tingkat publikasi dalam format *hardcopy* atau interaktif. Matplotlib bisa digunakan dalam skrip Python, Python dan iPython *shell*, Jupiter Notebook, dll. Matplotlib membuat pembuatan *plotting* menjadi mudah dengan sedikit baris kode saja.$^{[2]}$\n",
    "\n",
    "* ### NumPy\n",
    "NumPy adalah paket dasar untuk komputasi ilmiah dengan Python. NumPy terdapat fungsi *sophisticated*, objek *N-dimensional array*, aljabar linier, *random*. NumPy juga bisa digunakan sebagai kontainer multi-dimensional untuk data generik.$^{[3]}$"
   ]
  },
  {
   "cell_type": "markdown",
   "metadata": {},
   "source": [
    "# Instalasi Dasar\n",
    "---\n",
    "\n",
    "## 1. Python\n",
    "Hal yang diperlukan dalam menjalankan Ilustrasi dan Visualisasi Grafik adalah **Python 3.6** itu sendiri yang anda dapat unduh di website [Python](https://www.python.org/ \"Python\"). \n",
    "\n",
    "## 2. IDE *(Integrated Development Enviroment)* \n",
    "\n",
    "### Python Text Editor \n",
    "Python telah menyediakan IDE yang sudah disediakan secara *built-in* atau sudah termasuk dengan instalasi Python 3.6.  \n",
    "\n",
    "### PyCharm\n",
    "PyCharm merupakan IDE dari JetBrains. Banyak fitur yang bagus seperti *intelligent code-completing*, pengecekan error secara *on-the-fly*, navigasi projek mudah, dll. PyCharm tersedia dalam dua edisi, Professional dan Community. Edisi Professional diharuskan untuk bayar, tetapi untuk community tersedia secara gratis.\n",
    "PyCharm dapat diunduh [di sini](https://www.jetbrains.com/pycharm/download/ \"PyCharm\")\n",
    "\n",
    "## 3. Matplotlib"
   ]
  },
  {
   "cell_type": "code",
   "execution_count": null,
   "metadata": {},
   "outputs": [],
   "source": []
  },
  {
   "cell_type": "markdown",
   "metadata": {},
   "source": [
    "# Referensi\n",
    "---\n",
    "$^1$ Definisi Python https://docs.python.org/3/faq/general.html#what-is-python  \n",
    "$^2$ Definisi Matplotlib https://matplotlib.org/  \n",
    "$^3$ Definisi NumPy http://www.numpy.org/  "
   ]
  }
 ],
 "metadata": {
  "celltoolbar": "Raw Cell Format",
  "kernelspec": {
   "display_name": "Python 3",
   "language": "python",
   "name": "python3"
  },
  "language_info": {
   "codemirror_mode": {
    "name": "ipython",
    "version": 3
   },
   "file_extension": ".py",
   "mimetype": "text/x-python",
   "name": "python",
   "nbconvert_exporter": "python",
   "pygments_lexer": "ipython3",
   "version": "3.6.4"
  }
 },
 "nbformat": 4,
 "nbformat_minor": 2
}

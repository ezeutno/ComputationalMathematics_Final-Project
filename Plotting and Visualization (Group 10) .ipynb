{
 "cells": [
  {
   "cell_type": "markdown",
   "metadata": {},
   "source": [
    "# Tutorial Ilustrasi dan Visualisasi Grafik\n",
    "### Bahasa Pemograman : Python  (Matplotlib dan Numpy)\n",
    "\n",
    "Dalam pembelajaran \"Ilustrasi dan Visualisasi Grafik\", kita akan membahas cara membuat grafik di bahasa pemograman Python dengan Matplotlib dan Numpy."
   ]
  },
  {
   "cell_type": "markdown",
   "metadata": {},
   "source": [
    "## Deskripsi Singkat\n",
    "Sebelum kita memperdalam metode pemrograman python, sebaiknya kita terlebih dahulu tahu apakah itu Python, Matplotlib dan Numpy yang akan sering di ungkapkan dalam tutorial ini.\n",
    "\n",
    "### Python\n",
    "Python adalah bahasa pemrogaman level tinggi. Oleh karena itu, python sangat mudah untuk diprogram. Python dibentuk \n",
    "\n",
    "### Matplotlib\n",
    "\n",
    "### Numpy"
   ]
  },
  {
   "cell_type": "markdown",
   "metadata": {},
   "source": [
    "## Instalasi Dasar\n",
    "\n",
    "## Python\n",
    "Hal yang di perlukaan dalam menjalankan Ilustrasi dan Visualisasi Grafik adalah **Python 3.6** itu sendiri yang ada dapat dapatkan di [website python](https://www.python.org/ \"Title\"). \n",
    "\n",
    "## IDE (Integrated Development Enviroment) \n",
    "### Python Text Editor \n",
    "Python telah menyediakaan IDE yang sudah disedukan secara *built in* atau sudah termasuk dengan instalasi Python 3.6.  \n"
   ]
  },
  {
   "cell_type": "code",
   "execution_count": null,
   "metadata": {},
   "outputs": [],
   "source": []
  }
 ],
 "metadata": {
  "kernelspec": {
   "display_name": "Python 3",
   "language": "python",
   "name": "python3"
  },
  "language_info": {
   "codemirror_mode": {
    "name": "ipython",
    "version": 3
   },
   "file_extension": ".py",
   "mimetype": "text/x-python",
   "name": "python",
   "nbconvert_exporter": "python",
   "pygments_lexer": "ipython3",
   "version": "3.6.4"
  }
 },
 "nbformat": 4,
 "nbformat_minor": 2
}

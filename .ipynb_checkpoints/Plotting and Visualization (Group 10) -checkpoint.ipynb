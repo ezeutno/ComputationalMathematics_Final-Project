{
 "cells": [
  {
   "cell_type": "markdown",
   "metadata": {},
   "source": [
    "# Tutorial Ilustrasi dan Visualisasi Grafik\n",
    "---\n",
    "### Bahasa Pemograman: Python  (Matplotlib dan NumPy)\n",
    "\n",
    "Dalam pembelajaran \"Ilustrasi dan Visualisasi Grafik\", kita akan membahas cara membuat grafik di bahasa pemograman Python dengan Matplotlib dan Numpy.\n"
   ]
  },
  {
   "cell_type": "markdown",
   "metadata": {},
   "source": [
    "## Deskripsi Singkat\n",
    "Sebelum kita memperdalam metode pemrograman python, sebaiknya kita terlebih dahulu tahu apakah itu Python, Matplotlib dan Numpy yang akan sering di ungkapkan dalam tutorial ini.\n",
    "\n",
    "* ### Python\n",
    "Python adalah bahasa pemrogaman level tinggi yang terinterpretasi, bahasa *object-oriented* dan interaktif. Oleh karena itu, python sangat mudah untuk diprogram. Python dibuat oleh Guido van Rossum pada tahun 1991. Python menggunakan modul, pengecualian, pengetikan dinamis, tipe data dinamis level tinggi, dan kelas. Python juga mempunyai *interface* untuk memanggil sistem. Python merupakan bahasa yang mementingkan *code readibility* terutama dalam pemakaian *whitespaces*. $^{[1]}$\n",
    "\n",
    "* ### Matplotlib\n",
    "Matplotlib merupakan *plotting library* Python dua dimensi yang menghasilkan kualitas figur tingkat publikasi dalam format *hardcopy* atau interaktif. Matplotlib bisa digunakan dalam skrip Python, Python dan iPython *shell*, Jupiter Notebook, dll. Matplotlib membuat pembuatan *plotting* menjadi mudah dengan sedikit baris kode saja.$^{[2]}$\n",
    "\n",
    "* ### NumPy\n",
    "NumPy adalah paket dasar untuk komputasi ilmiah dengan Python. NumPy terdapat fungsi *sophisticated*, objek *N-dimensional array*, aljabar linier, *random*. NumPy juga bisa digunakan sebagai kontainer multi-dimensional untuk data generik.$^{[3]}$"
   ]
  },
  {
   "cell_type": "markdown",
   "metadata": {},
   "source": [
    "# Instalasi Dasar\n",
    "---\n",
    "\n",
    "## 1. Python\n",
    "Hal yang diperlukan dalam menjalankan Ilustrasi dan Visualisasi Grafik adalah **Python 3.6** itu sendiri yang anda dapat unduh di website [Python](https://www.python.org/ \"Python\"). \n",
    "\n",
    "## 2. IDE *(Integrated Development Enviroment)* \n",
    "\n",
    "### Python Text Editor \n",
    "Python telah menyediakan IDE yang sudah disediakan secara *built-in* atau sudah termasuk dengan instalasi Python 3.6.  \n",
    "\n",
    "### PyCharm\n",
    "PyCharm merupakan IDE dari JetBrains. Banyak fitur yang bagus seperti *intelligent code-completing*, pengecekan error secara *on-the-fly*, navigasi projek mudah, dll. PyCharm tersedia dalam dua edisi, Professional dan Community. Edisi Professional diharuskan untuk bayar, tetapi untuk community tersedia secara gratis.\n",
    "PyCharm dapat diunduh [di sini](https://www.jetbrains.com/pycharm/download/ \"PyCharm\")\n",
    "\n",
    "## 3. Matplotlib\n",
    "Instalasi Matplotlib tidaklah sulit, cukup mengetik command ini di *command prompt*\n",
    "\n",
    "    >>>python -mpip install -U pip\n",
    "    >>>python -mpip install -U matplotlib\n",
    "\n",
    "atau instalasi dapat dipermudah dengan mengunakaan IDE seperti Pycharm yang juga dapat menginstall Matplotlib."
   ]
  },
  {
   "cell_type": "markdown",
   "metadata": {},
   "source": [
    "# Penggunaan Matplotlib\n",
    "---\n",
    "## 1. Pengantar Matplotlib\n",
    "---\n",
    "### Mengimport Library\n",
    "Pertama-tama, kita perlu mengimport Matplotlib dalam Program Python yang akan kita buat."
   ]
  },
  {
   "cell_type": "code",
   "execution_count": 1,
   "metadata": {},
   "outputs": [],
   "source": [
    "# Untuk mempermudah eksekusi matplotlib dalam setiap barisnya karena eksekusi python dalam jupiter notebook adalah perbaris\n",
    "%matplotlib inline\n",
    "# mengimport \"library\" matplotlib secara keseluruhannya\n",
    "import matplotlib as mpl\n",
    "# mengimport bagian dari matplotlib yang berfungsi untuk membuat grafik 2 dimensi x,y\n",
    "import matplotlib.pyplot as plt\n",
    "# mengimport Axes3D untuk membuat grafik dalam 3 dimensi x,y,z\n",
    "from mpl_toolkits.mplot3d.axes3d import Axes3D"
   ]
  },
  {
   "cell_type": "markdown",
   "metadata": {},
   "source": [
    "Untuk mempercepat kalkulasi, kita mengimport/mengunakaan \"library\" lainnya yaitu Numpy dan/atau Sympy*.                         \n",
    "\\** tidak dijelaskan secara detail di python notebook ini"
   ]
  },
  {
   "cell_type": "code",
   "execution_count": 2,
   "metadata": {},
   "outputs": [],
   "source": [
    "# mengimport numpy \"library\"\n",
    "import numpy as np\n",
    "# mengimport sympy \"library\"\n",
    "import sympy"
   ]
  },
  {
   "cell_type": "markdown",
   "metadata": {},
   "source": [
    "### Cara Kerja Pengambaran Grafik Matplotlib\n",
    "Inilah kanvas tempat kita menepatkan titik koordinat untuk menghasilkan grafik.\n",
    "\n",
    "Dimana secara konsep digambarkan seperti ini,\n",
    "<img src=\"https://matplotlib.org/1.5.1/_images/fig_map.png\">\n",
    "Pengertian : \n",
    "* *Figure* → Kanvas untuk menggambar axes(Penempataan Grafik). Oleh karena itu, dalam satu figur bisa terdapat beberapa grafik.\n",
    "* *Axes* → Penempataan grafik dengan axis (sumbu), x (absis) dan y (ordinat)\n",
    "* *Axis* → Sumbu penempataan titik koordinat.\n",
    "* *Title* → Judul grafik secara keseluruhan\n",
    "* *Label* → Penempataan fungsi dari suatu axis\n",
    "* Grafik → Menggambar grafik, dalam hal ini mengunakaan fungsi $f(x) = \\sin{x}$"
   ]
  },
  {
   "cell_type": "markdown",
   "metadata": {},
   "source": [
    "### Ilustrasi Garfik Garis Matplotlib\n",
    "\n",
    "#### Pengertian\n",
    "Sebelum membuat suatu grafix, kita harus mengerti parameter yang dapat dimasukan untuk Ilustrasi *Plotting*.\n",
    "\n",
    "Untuk Ilustrasi pembuataan grafik garis kita mengunakaan pyplot.plot() yang menerima parameter sebagai berikut ini :\n",
    "\n",
    "    plt.plot([x], y, [fmt], data=None, **kwargs)\n",
    "    plot([x], y, [fmt], [x2], y2, [fmt2], ..., **kwargs)\n",
    "\n",
    "* **X,Y** = Menerima Array *Jajaran* / titik untuk menepatkannya pada grafik koordinat\n",
    "* **fmt** = Menerima bentuk dan warna seperti *__ro--__* menjadi *warna merah bergambarkan titik bulat yang terhubung garis putus putus*\n",
    "    * Menerima semua warna yang dapat diterima oleh matplotlib\n",
    "    * $\\color{red}r(merah)$ → warna, $\\color{blue}b (biru)$, $\\color{green}g (hijau)$, $\\color{cyan}c (cyan)$, $\\color{black}k (hitam)$, $\\color{magenta}m (magenta)$, $\\color{yellow}y (kuning)$,$\\color{gray} w (putih)$\n",
    "    * o(*bulat*) → bentuk, ^ (*segitiga*), **.** (*point*), x(*silang*), dan lain lain.\n",
    "    * --(*garis putus putus*) → representasi garis - (*garis lurus*).\n",
    "* **data** = Menerima objek (*obj*) yang dapat di akses mengunakaan key label tertentu\n",
    "* **\\*\\*kwargs** = Menerima paramater berdasarkaan key dari Line2. Seperti, color untuk warna, label untuk memberi nama garis dalam hal ini untuk fungsi *Legend* / Legenda / Index dan lain lain. \n",
    "\n",
    "Keseluruhan dan lain lain dapat dilihat [di sini](https://matplotlib.org/api/_as_gen/matplotlib.pyplot.plot.html)."
   ]
  },
  {
   "cell_type": "markdown",
   "metadata": {},
   "source": [
    "#### Contoh Pemakaaian \n",
    "##### 1. Jajaran Standar (Array)\n",
    "\n",
    "Kemudian gunakan itu untuk memasukan titik x dan y:\n",
    "\n",
    "    >>>tests_legend, = plt.plot([1, 2, 3, 4], [1, 4, 9, 16], 'ro', line=\"Test Legend\")\n",
    "\n",
    "Anda bisa juga menambah label pada *plot* yang anda buat:\n",
    "\n",
    "    Label Judul\n",
    "    >>>plt.title(\"Grafik kenaikan suatu angka\") \n",
    "\n",
    "    Label Sumbu\n",
    "    >>>plt.xlabel(\"Beberapa angka\")\n",
    "    >>>plt.ylabel(\"Lebih banyak angka\")\n",
    "    \n",
    "Hal yang dapat ditambakan lagi adalah index (*Legend*) :\n",
    "\n",
    "    >>>plt.legend()*\n",
    "    atau >>>plt.legend(handles=[test_legend])**\n",
    "    atau >>>plt.legend([test_lengend], ['Test Legend'])**\n",
    "    \n",
    "    *Jika label sudah di set\n",
    "    **Pastikan variable yang menimpan plt.plot() terdapat coma\n",
    "\n",
    "plt.title() untuk judul, plt.xlabel() untuk sumbu x dan ylabel() untuk sumbu y.\n",
    "Lalu gunakan kode di bawah untuk menampilkan *plot* yang telah dibuat:\n",
    "\n",
    "    >>>plt.show()"
   ]
  },
  {
   "cell_type": "markdown",
   "metadata": {},
   "source": [
    "###### Beberapa contoh plotting / ilustrasi"
   ]
  },
  {
   "cell_type": "code",
   "execution_count": 3,
   "metadata": {
    "scrolled": true
   },
   "outputs": [
    {
     "data": {
      "image/png": "[encoded data removed]",
      "text/plain": [
       "<matplotlib.figure.Figure at 0x259e4945748>"
      ]
     },
     "metadata": {},
     "output_type": "display_data"
    }
   ],
   "source": [
    "plt.plot([1, 2, 3, 4], [1, 4, 9, 16], 'ro-', label=\"Test Legend\")\n",
    "plt.plot([4, 3, 2, 1], [1, 4, 9, 16], 'b--')\n",
    "plt.plot([1, 4, 9, 16], 'k^')\n",
    "\n",
    "# menset attribute dari grafik\n",
    "plt.title(\"Grafik angka\")\n",
    "plt.xlabel(\"Beberapa angka\")\n",
    "plt.ylabel(\"Lebih banyak angka\")\n",
    "plt.legend()\n",
    "\n",
    "#menampilkan grafik\n",
    "plt.show()"
   ]
  },
  {
   "cell_type": "code",
   "execution_count": 4,
   "metadata": {},
   "outputs": [
    {
     "data": {
      "image/png": "[encoded data removed]",
      "text/plain": [
       "<matplotlib.figure.Figure at 0x259e4998550>"
      ]
     },
     "metadata": {},
     "output_type": "display_data"
    }
   ],
   "source": [
    "plt.plot([2, 5, 10, 17])\n",
    "plt.plot([3, 6, 16, 11], color = \"magenta\")\n",
    "plt.show()"
   ]
  },
  {
   "cell_type": "markdown",
   "metadata": {},
   "source": [
    "Jika tidak diberikan nilai sumbu y, nilai yang dimasukan akan menjadi nilai sumbu y secara otomatis dan nilai sumbu x akan bertaraf dari 0 hingga index jangkauan terjauh pada jajaran (dalam hal ini sampai 3).\n"
   ]
  },
  {
   "cell_type": "markdown",
   "metadata": {},
   "source": [
    "##### 2. Jajaran Numpy (Numpy Array, Arange, Linspace, Ones, and Zeros)\n",
    "Mengunakaan Numpy sebagai media kalkulasi dan penempatan data untuk melakukan perhitungan secara cepat."
   ]
  },
  {
   "cell_type": "markdown",
   "metadata": {},
   "source": [
    "##### Cara mengunakaan numpy array\n",
    "- Numpy Linspace : Membuat jajaran dengan nilai antara mulai dan akhir dengan banyak nilai tertentu (Seolah-olah membuat Matriks linear/baris). \n",
    "\n",
    "        numpy.linspace(start, stop, num=50, endpoint=True, retstep=False, dtype=None)\n",
    "        \n",
    "    1. start → nilai mulai\n",
    "    2. stop → nilai akhir\n",
    "    3. endpoint → \"Apakah nilai akhir mengikut jajarannya?\"\n",
    "    4. retstep → \"Apakah nilai perubahan ikut disertakan?\"\n",
    "    5. dtype → Mengeset tipe datatype dari bagian numpy.dtype. Contoh : numpy.int16"
   ]
  },
  {
   "cell_type": "markdown",
   "metadata": {},
   "source": [
    "Contohnya kita membuat sebuah array dari 0 sampai 400 dengan jumlah step 10"
   ]
  },
  {
   "cell_type": "code",
   "execution_count": 5,
   "metadata": {},
   "outputs": [
    {
     "data": {
      "text/plain": [
       "array([  0.        ,  44.44444444,  88.88888889, 133.33333333,\n",
       "       177.77777778, 222.22222222, 266.66666667, 311.11111111,\n",
       "       355.55555556, 400.        ])"
      ]
     },
     "execution_count": 5,
     "metadata": {},
     "output_type": "execute_result"
    }
   ],
   "source": [
    "np.linspace(0,400,10)"
   ]
  },
  {
   "cell_type": "code",
   "execution_count": 6,
   "metadata": {},
   "outputs": [
    {
     "data": {
      "text/plain": [
       "array([  0.,  40.,  80., 120., 160., 200., 240., 280., 320., 360.])"
      ]
     },
     "execution_count": 6,
     "metadata": {},
     "output_type": "execute_result"
    }
   ],
   "source": [
    "np.linspace(0,400,10,False)"
   ]
  },
  {
   "cell_type": "code",
   "execution_count": 7,
   "metadata": {},
   "outputs": [
    {
     "data": {
      "text/plain": [
       "(array([  0.        ,  44.44444444,  88.88888889, 133.33333333,\n",
       "        177.77777778, 222.22222222, 266.66666667, 311.11111111,\n",
       "        355.55555556, 400.        ]), 44.44444444444444)"
      ]
     },
     "execution_count": 7,
     "metadata": {},
     "output_type": "execute_result"
    }
   ],
   "source": [
    "np.linspace(0,400,10,retstep=True)"
   ]
  },
  {
   "cell_type": "code",
   "execution_count": 8,
   "metadata": {},
   "outputs": [
    {
     "data": {
      "text/plain": [
       "array([  0,  44,  88, 133, 177, 222, 266, 311, 355, 400], dtype=int16)"
      ]
     },
     "execution_count": 8,
     "metadata": {},
     "output_type": "execute_result"
    }
   ],
   "source": [
    "np.linspace(0,400,10,dtype=np.int16)"
   ]
  },
  {
   "cell_type": "markdown",
   "metadata": {},
   "source": [
    "- Numpy Array : Membuat jajaran numpy (Seolah olah Matriks)\n",
    "\n",
    "        numpy.array(object, dtype=None, copy=True, order='K', subok=False, ndmin=0)\n",
    "    1. object → Jajaran standar *array*\n",
    "    2. copy → \"Apakah mengkopi object atau tidak?\" Karena jika tidak, jajarannya tidak akan terbentuk sesuai dengan sumber melainkan sesuai dengan kondisi yang ditentukan jika tidak sesuai dengan kondisi lainnya. (Contoh dtype = int, tapi tipe data jajaran yang dikopi adalah float).\n",
    "    3. order → Memori layout dari jajarannya. (K/Urutan sesuai Jajajran yang di copy/, A/F jika F, C jika C/, F/Fortran/, C/Baris Utama/)  \n",
    "    4. subok → \"Apakah kelas bawahnya di ikutkan atau tidak?\"\n",
    "    5. ndmin → Dimensi minimal yang masuk, jika tidak maka akan dimasukan 1 jika tidak sesuai "
   ]
  },
  {
   "cell_type": "markdown",
   "metadata": {},
   "source": [
    "Contohnya kita memasukan jajaran standar *python list* dan matriks yaitu dalam hal ini data sebagai berikut"
   ]
  },
  {
   "cell_type": "code",
   "execution_count": 9,
   "metadata": {},
   "outputs": [],
   "source": [
    "data = [1.23,1.34,3.34,1.43,2.23]\n",
    "dataMatriks = np.mat('1 2; 3 4') #untuk membuat matriks"
   ]
  },
  {
   "cell_type": "markdown",
   "metadata": {},
   "source": [
    "Membuat numpy array sebagai berikut"
   ]
  },
  {
   "cell_type": "code",
   "execution_count": 10,
   "metadata": {},
   "outputs": [
    {
     "data": {
      "text/plain": [
       "array([1.23, 1.34, 3.34, 1.43, 2.23])"
      ]
     },
     "execution_count": 10,
     "metadata": {},
     "output_type": "execute_result"
    }
   ],
   "source": [
    "np.array(data)"
   ]
  },
  {
   "cell_type": "code",
   "execution_count": 11,
   "metadata": {},
   "outputs": [
    {
     "data": {
      "text/plain": [
       "matrix([[1, 2],\n",
       "        [3, 4]])"
      ]
     },
     "execution_count": 11,
     "metadata": {},
     "output_type": "execute_result"
    }
   ],
   "source": [
    "np.array(dataMatriks,subok=True)"
   ]
  },
  {
   "cell_type": "markdown",
   "metadata": {},
   "source": [
    "- Numpy Arange : Membuat jajaran dengan nilai antara mulai (oposional) dan akhir dengan jarak tertentu (Seolah-olah membuat Matriks linear/baris).  \n",
    "\n",
    "        numpy.arange([start, ]stop, [step, ]dtype=None)\n",
    "        \n",
    "    1. step → jarak perpindahan"
   ]
  },
  {
   "cell_type": "code",
   "execution_count": 12,
   "metadata": {},
   "outputs": [
    {
     "data": {
      "text/plain": [
       "array([0., 1., 2.])"
      ]
     },
     "execution_count": 12,
     "metadata": {},
     "output_type": "execute_result"
    }
   ],
   "source": [
    "np.arange(3.0)"
   ]
  },
  {
   "cell_type": "code",
   "execution_count": 13,
   "metadata": {},
   "outputs": [
    {
     "data": {
      "text/plain": [
       "array([ 4.,  9., 14.])"
      ]
     },
     "execution_count": 13,
     "metadata": {},
     "output_type": "execute_result"
    }
   ],
   "source": [
    "np.arange(4.0,15.0,5)"
   ]
  },
  {
   "cell_type": "markdown",
   "metadata": {},
   "source": [
    "- Numpy Ones : Membuat jajaran yang berisikan 1 dengan ukuran tertentu (Seolah-olah Matriks Satu).\n",
    "\n",
    "        numpy.ones(shape, dtype=None, order='C')\n",
    "    1. shape → nilai bentuk dari jajaran dua dimensi"
   ]
  },
  {
   "cell_type": "code",
   "execution_count": 14,
   "metadata": {},
   "outputs": [
    {
     "data": {
      "text/plain": [
       "array([1., 1., 1., 1., 1.])"
      ]
     },
     "execution_count": 14,
     "metadata": {},
     "output_type": "execute_result"
    }
   ],
   "source": [
    "np.ones(5)"
   ]
  },
  {
   "cell_type": "code",
   "execution_count": 16,
   "metadata": {},
   "outputs": [
    {
     "data": {
      "text/plain": [
       "array([[1., 1., 1.],\n",
       "       [1., 1., 1.]])"
      ]
     },
     "execution_count": 16,
     "metadata": {},
     "output_type": "execute_result"
    }
   ],
   "source": [
    "np.ones((2,3))"
   ]
  },
  {
   "cell_type": "markdown",
   "metadata": {},
   "source": [
    "- Numpy Zeros : Membuat jajaran yang berisikan 0 dengan ukuran tertentu (Seolah-olah membentuk Matriks Nol).\n",
    "\n",
    "        numpy.zeros(shape, dtype=float, order='C')"
   ]
  },
  {
   "cell_type": "code",
   "execution_count": 18,
   "metadata": {},
   "outputs": [
    {
     "data": {
      "text/plain": [
       "array([0., 0., 0., 0., 0.])"
      ]
     },
     "execution_count": 18,
     "metadata": {},
     "output_type": "execute_result"
    }
   ],
   "source": [
    "np.zeros(5)"
   ]
  },
  {
   "cell_type": "markdown",
   "metadata": {},
   "source": [
    "##### 3. Mengilustrasikan grafik pada matplotlib dengan numpy array\n",
    "\n",
    "Sejak kita telah mengenal cara mengunakaan sebagian dari jajaran dari *library* numpy, kita bisa mengunakaan *library* tersebut untuk mengilustrasikan titik titik dalam grafik yang akan kita bentuk mengunakaan matplotlib."
   ]
  },
  {
   "cell_type": "markdown",
   "metadata": {},
   "source": [
    "Sebagai contoh kita akan mengilustrasikan grafik sinus x dari $0 - 2\\pi$."
   ]
  },
  {
   "cell_type": "code",
   "execution_count": 23,
   "metadata": {},
   "outputs": [
    {
     "data": {
      "image/png": "[encoded data removed]",
      "text/plain": [
       "<matplotlib.figure.Figure at 0x259e2a2fda0>"
      ]
     },
     "metadata": {},
     "output_type": "display_data"
    }
   ],
   "source": [
    "# membuat function yang mengembalikan nilai dari y nya, yang menerima parameter x mengunkaan radian bukan derajat\n",
    "f = lambda x: np.sin(x)\n",
    "# membuat banyak point untuk memperhalus gambar dari grafik\n",
    "x = np.linspace(0,2*np.pi,1000000)\n",
    "y = f(x)\n",
    "plt.plot(x,y,label = \"sin(x)\")\n",
    "plt.xlabel(\"Nilai dari X\")\n",
    "plt.ylabel(\"Nilai dari Y\")\n",
    "plt.title(\"Garfik Sinus X\")\n",
    "plt.legend()\n",
    "plt.show()"
   ]
  },
  {
   "cell_type": "code",
   "execution_count": null,
   "metadata": {},
   "outputs": [],
   "source": []
  },
  {
   "cell_type": "markdown",
   "metadata": {},
   "source": [
    "Berbagai contoh lain plotting dari Matplotlib:"
   ]
  },
  {
   "cell_type": "code",
   "execution_count": 15,
   "metadata": {},
   "outputs": [],
   "source": [
    "# np.random.seed(19680801)\n",
    "# data = np.random.randn(2, 100)\n",
    "\n",
    "# #with plt.xkcd():   # xkcd-style plotting\n",
    "# fig, axs = plt.subplots(2, 3, figsize=(8, 5))\n",
    "# axs[0, 0].hist(data[0])\n",
    "# axs[0, 0].set_title('common xlabel')\n",
    "# axs[1, 0].scatter(data[0], data[1])\n",
    "# axs[0, 1].plot(data[0], data[1])     \n",
    "# axs[1, 1].hist2d(data[0], data[1])\n",
    "# axs[1, 2].hist(data[1])\n",
    "# axs[0, 2].hist2d(data[1], data[0])\n",
    "# plt.show()"
   ]
  },
  {
   "cell_type": "markdown",
   "metadata": {},
   "source": [
    "# Referensi\n",
    "---\n",
    "$^1$ Definisi Python https://docs.python.org/3/faq/general.html#what-is-python  \n",
    "$^2$ Matplotlib https://matplotlib.org/  \n",
    "$^3$ Definisi NumPy http://www.numpy.org/  \n",
    "$^4$ Gambar Figure, Axes & Axis https://matplotlib.org/1.5.1/faq/usage_faq.html#parts-of-a-figure                               \n",
    "$^5$ Buku Numerical Python A Practical Techniques Approach for Industry (Chapter 4 Plotting and Visualization)"
   ]
  }
 ],
 "metadata": {
  "celltoolbar": "Raw Cell Format",
  "kernelspec": {
   "display_name": "Python 3",
   "language": "python",
   "name": "python3"
  },
  "language_info": {
   "codemirror_mode": {
    "name": "ipython",
    "version": 3
   },
   "file_extension": ".py",
   "mimetype": "text/x-python",
   "name": "python",
   "nbconvert_exporter": "python",
   "pygments_lexer": "ipython3",
   "version": "3.6.4"
  }
 },
 "nbformat": 4,
 "nbformat_minor": 2
}
